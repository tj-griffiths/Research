{
 "cells": [
  {
   "cell_type": "markdown",
   "metadata": {},
   "source": [
    "# Calculations for Laser Ablation \n",
    "\n",
    "Was checking to see what laser power would be needed for proper ablation of the BaMg alloy, it is probably incorrect. Used formulas from thesis: Ablation loading and qudit measurements with barium ions by Brendan Bramman"
   ]
  },
  {
   "cell_type": "code",
   "execution_count": 14,
   "metadata": {},
   "outputs": [
    {
     "data": {
      "text/plain": [
       "<astropy.units.core._UnitContext at 0x103e3b490>"
      ]
     },
     "execution_count": 14,
     "metadata": {},
     "output_type": "execute_result"
    }
   ],
   "source": [
    "import numpy as np\n",
    "from astropy import units as u\n",
    "from astropy import constants as const\n",
    "from astropy.units import imperial\n",
    "imperial.enable()"
   ]
  },
  {
   "cell_type": "code",
   "execution_count": 15,
   "metadata": {},
   "outputs": [],
   "source": [
    "ba_info = {\n",
    "    \"atomic_mass\": 137.33 * (u.g / u.mol),\n",
    "    \"density\": 3.51 * (u.g / u.cm**3),\n",
    "    \"heat_vap\": 140.0 * (u.kJ / u.mol),\n",
    "    \"thermal_conductivity\": (18 * u.W / (u.mK)),\n",
    "    \"heat_capacity\": 205 * (u.J / (u.kg * u.K)),\n",
    "}\n",
    "\n",
    "mg_info = {\n",
    "    \"atomic_mass\": 24.305 * (u.g / u.mol),\n",
    "    \"density\": 1.738 * (u.g / u.cm**3),\n",
    "    \"heat_vap\": 128.0 * (u.kJ / u.mol),\n",
    "    \"thermal_conductivity\": 160 * (u.W / (u.mK)),\n",
    "    \"heat_capacity\": 1020 * (u.J / (u.kg * u.K)),\n",
    "}"
   ]
  },
  {
   "cell_type": "code",
   "execution_count": 16,
   "metadata": {},
   "outputs": [
    {
     "data": {
      "text/latex": [
       "$2092.4 \\; \\mathrm{\\frac{kg}{m^{3}}}$"
      ],
      "text/plain": [
       "<Quantity 2092.4 kg / m3>"
      ]
     },
     "execution_count": 16,
     "metadata": {},
     "output_type": "execute_result"
    }
   ],
   "source": [
    "density = 0.2* ba_info[\"density\"] + 0.8 * mg_info[\"density\"]\n",
    "density_SI = density.to(u.kg / u.m**3)\n",
    "density_SI"
   ]
  },
  {
   "cell_type": "code",
   "execution_count": 17,
   "metadata": {},
   "outputs": [
    {
     "data": {
      "text/latex": [
       "$2779791.1 \\; \\mathrm{\\frac{J}{kg}}$"
      ],
      "text/plain": [
       "<Quantity 2779791.08931997 J / kg>"
      ]
     },
     "execution_count": 17,
     "metadata": {},
     "output_type": "execute_result"
    }
   ],
   "source": [
    "heat_vap = 0.2 * ba_info[\"heat_vap\"] + 0.8 * mg_info[\"heat_vap\"]\n",
    "heat_vap = heat_vap.to(u.J / u.mol)\n",
    "\n",
    "atomic_mass = 0.2 * ba_info[\"atomic_mass\"] + 0.8 * mg_info[\"atomic_mass\"]\n",
    "atomic_mass\n",
    "\n",
    "heat_vap = heat_vap/atomic_mass\n",
    "heat_vaporization = heat_vap.to(u.J / (u.kg))\n",
    "heat_vaporization"
   ]
  },
  {
   "cell_type": "code",
   "execution_count": 18,
   "metadata": {},
   "outputs": [
    {
     "data": {
      "text/latex": [
       "$131.6 \\; \\mathrm{\\frac{W}{mK}}$"
      ],
      "text/plain": [
       "<Quantity 131.6 W / mK>"
      ]
     },
     "execution_count": 18,
     "metadata": {},
     "output_type": "execute_result"
    }
   ],
   "source": [
    "thermal_conduct = 0.2 * ba_info[\"thermal_conductivity\"] + 0.8 * mg_info[\"thermal_conductivity\"]\n",
    "thermal_conduct"
   ]
  },
  {
   "cell_type": "code",
   "execution_count": 19,
   "metadata": {},
   "outputs": [
    {
     "data": {
      "text/latex": [
       "$857 \\; \\mathrm{\\frac{J}{K\\,kg}}$"
      ],
      "text/plain": [
       "<Quantity 857. J / (K kg)>"
      ]
     },
     "execution_count": 19,
     "metadata": {},
     "output_type": "execute_result"
    }
   ],
   "source": [
    "heat_capacity = 0.2 * ba_info[\"heat_capacity\"] + 0.8 * mg_info[\"heat_capacity\"]\n",
    "heat_capacity_SI = heat_capacity.to(u.J / (u.kg * u.K))\n",
    "heat_capacity_SI"
   ]
  },
  {
   "cell_type": "code",
   "execution_count": 20,
   "metadata": {},
   "outputs": [
    {
     "data": {
      "text/latex": [
       "$7.3388896 \\times 10^{-5} \\; \\mathrm{\\frac{m^{2}}{s}}$"
      ],
      "text/plain": [
       "<Quantity 7.33888962e-05 m2 / s>"
      ]
     },
     "execution_count": 20,
     "metadata": {},
     "output_type": "execute_result"
    }
   ],
   "source": [
    "thermal_diff = thermal_conduct.value / (density_SI.value * heat_capacity_SI.value)\n",
    "thermal_diffusivity = thermal_diff * (u.m**2 / u.s)\n",
    "thermal_diffusivity"
   ]
  },
  {
   "cell_type": "code",
   "execution_count": 21,
   "metadata": {},
   "outputs": [],
   "source": [
    "pulse_duration = 15 * u.ps\n",
    "energy_deposition_depth = (pulse_duration * thermal_diffusivity)**(1/2)\n",
    "\n",
    "laser_intensity = energy_deposition_depth.value * density_SI.value * heat_vaporization.value / pulse_duration.value\n",
    "laser_intensity = laser_intensity * (u.W / u.cm**2)"
   ]
  },
  {
   "cell_type": "code",
   "execution_count": 22,
   "metadata": {},
   "outputs": [
    {
     "data": {
      "text/latex": [
       "$0.00019298239 \\; \\mathrm{\\frac{J}{cm^{2}}}$"
      ],
      "text/plain": [
       "<Quantity 0.00019298 J / cm2>"
      ]
     },
     "execution_count": 22,
     "metadata": {},
     "output_type": "execute_result"
    }
   ],
   "source": [
    "fluence = laser_intensity * pulse_duration\n",
    "fluence = fluence.to(u.J / u.cm**2)\n",
    "fluence"
   ]
  },
  {
   "cell_type": "code",
   "execution_count": 23,
   "metadata": {},
   "outputs": [
    {
     "data": {
      "text/latex": [
       "$1.9634954 \\times 10^{-9} \\; \\mathrm{cm^{2}}$"
      ],
      "text/plain": [
       "<Quantity 1.96349541e-09 cm2>"
      ]
     },
     "execution_count": 23,
     "metadata": {},
     "output_type": "execute_result"
    }
   ],
   "source": [
    "area = np.pi * (25 * 10**-6)**2 * u.cm**2\n",
    "area"
   ]
  },
  {
   "cell_type": "code",
   "execution_count": 24,
   "metadata": {},
   "outputs": [
    {
     "data": {
      "text/latex": [
       "$1.1904124 \\times 10^{-12} \\; \\mathrm{J}$"
      ],
      "text/plain": [
       "<Quantity 1.19041239e-12 J>"
      ]
     },
     "execution_count": 24,
     "metadata": {},
     "output_type": "execute_result"
    }
   ],
   "source": [
    "pulse_energy = fluence * np.pi * area\n",
    "pulse_energy"
   ]
  },
  {
   "cell_type": "code",
   "execution_count": 25,
   "metadata": {},
   "outputs": [],
   "source": [
    "frequency = 4 * 10**6 * u.Hz"
   ]
  },
  {
   "cell_type": "code",
   "execution_count": 26,
   "metadata": {},
   "outputs": [
    {
     "data": {
      "text/latex": [
       "$4.7616496 \\times 10^{-6} \\; \\mathrm{W}$"
      ],
      "text/plain": [
       "<Quantity 4.76164958e-06 W>"
      ]
     },
     "execution_count": 26,
     "metadata": {},
     "output_type": "execute_result"
    }
   ],
   "source": [
    "average_power = pulse_energy * frequency\n",
    "average_power.to(u.W)"
   ]
  }
 ],
 "metadata": {
  "kernelspec": {
   "display_name": "Python 3",
   "language": "python",
   "name": "python3"
  },
  "language_info": {
   "codemirror_mode": {
    "name": "ipython",
    "version": 3
   },
   "file_extension": ".py",
   "mimetype": "text/x-python",
   "name": "python",
   "nbconvert_exporter": "python",
   "pygments_lexer": "ipython3",
   "version": "3.13.0"
  }
 },
 "nbformat": 4,
 "nbformat_minor": 2
}
